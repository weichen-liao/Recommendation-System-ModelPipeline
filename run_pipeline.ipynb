{
 "cells": [
  {
   "cell_type": "code",
   "execution_count": 1,
   "metadata": {},
   "outputs": [],
   "source": [
    "from pipeline import get_data, get_user_recommendation, train_and_evalute_model_pipeline, benchmark\n",
    "import pandas as pd\n",
    "import numpy as np\n",
    "from surprise.prediction_algorithms.algo_base import AlgoBase\n",
    "from surprise import SVD\n",
    "from surprise.prediction_algorithms.knns import KNNBasic\n",
    "from surprise.prediction_algorithms.matrix_factorization import NMF\n",
    "from surprise.model_selection import cross_validate\n",
    "\n",
    "data = get_data(from_surprise=True)"
   ]
  },
  {
   "cell_type": "markdown",
   "metadata": {},
   "source": [
    "### train model manually, one by one "
   ]
  },
  {
   "cell_type": "code",
   "execution_count": 7,
   "metadata": {},
   "outputs": [
    {
     "data": {
      "text/plain": [
       "{'RMSE': 0.9349585947285977, 'MAE': 0.9349585947285977}"
      ]
     },
     "execution_count": 7,
     "metadata": {},
     "output_type": "execute_result"
    }
   ],
   "source": [
    "# # train the KNNBasic model\n",
    "kwargs_KNN = {'k':40, 'min_k':1 ,'sim_options': {'user_based': False, 'name': 'pearson'}}\n",
    "model, metrics_dict = train_and_evalute_model_pipeline('KNN', model_kwargs=kwargs_KNN, from_surprise=True, test_size=0.2)\n",
    "# # train the NMF model\n",
    "kwargs_NMF = {'n_factors':15, 'n_epochs': 50, 'verbose':False}\n",
    "model, metrics_dict = train_and_evalute_model_pipeline('NMF', model_kwargs=kwargs_NMF, from_surprise=True, test_size=0.2)\n",
    "# # train the SVD model\n",
    "kwargs_SVD = {}\n",
    "model, metrics_dict = train_and_evalute_model_pipeline('SVD', model_kwargs=kwargs_SVD, from_surprise=True, test_size=0.2)\n"
   ]
  },
  {
   "cell_type": "markdown",
   "metadata": {},
   "source": [
    "### benchmark on a seq of models of your choices"
   ]
  },
  {
   "cell_type": "code",
   "execution_count": 2,
   "metadata": {},
   "outputs": [
    {
     "name": "stdout",
     "output_type": "stream",
     "text": [
      "------------------processing KNN user based cosine ------------------\n",
      "Computing the cosine similarity matrix...\n",
      "Done computing similarity matrix.\n",
      "------------------processing KNN user based pearson ------------------\n",
      "Computing the pearson similarity matrix...\n",
      "Done computing similarity matrix.\n",
      "------------------processing NMF user based ------------------\n",
      "------------------processing SVD user based ------------------\n"
     ]
    },
    {
     "data": {
      "text/html": [
       "<div>\n",
       "<style scoped>\n",
       "    .dataframe tbody tr th:only-of-type {\n",
       "        vertical-align: middle;\n",
       "    }\n",
       "\n",
       "    .dataframe tbody tr th {\n",
       "        vertical-align: top;\n",
       "    }\n",
       "\n",
       "    .dataframe thead th {\n",
       "        text-align: right;\n",
       "    }\n",
       "</style>\n",
       "<table border=\"1\" class=\"dataframe\">\n",
       "  <thead>\n",
       "    <tr style=\"text-align: right;\">\n",
       "      <th></th>\n",
       "      <th>model name</th>\n",
       "      <th>RMSE</th>\n",
       "      <th>MAE</th>\n",
       "      <th>fit_time(ms)</th>\n",
       "    </tr>\n",
       "  </thead>\n",
       "  <tbody>\n",
       "    <tr>\n",
       "      <th>0</th>\n",
       "      <td>KNN user based cosine</td>\n",
       "      <td>1.026430</td>\n",
       "      <td>1.026430</td>\n",
       "      <td>1500.095129</td>\n",
       "    </tr>\n",
       "    <tr>\n",
       "      <th>1</th>\n",
       "      <td>KNN user based pearson</td>\n",
       "      <td>1.041104</td>\n",
       "      <td>1.041104</td>\n",
       "      <td>2044.845104</td>\n",
       "    </tr>\n",
       "    <tr>\n",
       "      <th>2</th>\n",
       "      <td>NMF user based</td>\n",
       "      <td>0.961725</td>\n",
       "      <td>0.961725</td>\n",
       "      <td>5158.902168</td>\n",
       "    </tr>\n",
       "    <tr>\n",
       "      <th>3</th>\n",
       "      <td>SVD user based</td>\n",
       "      <td>0.938988</td>\n",
       "      <td>0.938988</td>\n",
       "      <td>4610.154390</td>\n",
       "    </tr>\n",
       "  </tbody>\n",
       "</table>\n",
       "</div>"
      ],
      "text/plain": [
       "               model name      RMSE       MAE  fit_time(ms)\n",
       "0   KNN user based cosine  1.026430  1.026430   1500.095129\n",
       "1  KNN user based pearson  1.041104  1.041104   2044.845104\n",
       "2          NMF user based  0.961725  0.961725   5158.902168\n",
       "3          SVD user based  0.938988  0.938988   4610.154390"
      ]
     },
     "metadata": {},
     "output_type": "display_data"
    }
   ],
   "source": [
    "model_dict = {'KNN user based cosine': \n",
    "    {'algo': 'KNN', 'model_kwargs':\n",
    "        {'k':40, 'min_k':1 ,'sim_options': {'user_based': False, 'name': 'cosine'}},\n",
    "        'from_surprise':True, 'test_size':0.2},\n",
    " 'KNN user based pearson':\n",
    "    {'algo': 'KNN', 'model_kwargs':\n",
    "        {'k':40, 'min_k':1 ,'sim_options': {'user_based': False, 'name': 'pearson'}},\n",
    "        'from_surprise':True, 'test_size':0.2},\n",
    " 'NMF user based':\n",
    "    {'algo': 'NMF', 'model_kwargs':\n",
    "        {'n_factors':15, 'n_epochs': 50, 'verbose':False},\n",
    "        'from_surprise':True, 'test_size':0.2},\n",
    " 'SVD user based':\n",
    "    {'algo': 'SVD', 'model_kwargs':{}, 'from_surprise':True, 'test_size':0.2}\n",
    "}\n",
    "\n",
    "df_res, model_dict = benchmark(model_dict)\n",
    "display(df_res)"
   ]
  },
  {
   "cell_type": "code",
   "execution_count": 4,
   "metadata": {},
   "outputs": [
    {
     "name": "stdout",
     "output_type": "stream",
     "text": [
      "{'KNN user based cosine': <surprise.prediction_algorithms.knns.KNNBasic object at 0x7f978cbd3370>, 'KNN user based pearson': <surprise.prediction_algorithms.knns.KNNBasic object at 0x7f978cc1beb0>, 'NMF user based': <surprise.prediction_algorithms.matrix_factorization.NMF object at 0x7f978b6de370>, 'SVD user based': <surprise.prediction_algorithms.matrix_factorization.SVD object at 0x7f978cc1b400>}\n"
     ]
    }
   ],
   "source": [
    "print(model_dict)"
   ]
  },
  {
   "cell_type": "markdown",
   "metadata": {},
   "source": [
    "### Cross validation"
   ]
  },
  {
   "cell_type": "code",
   "execution_count": 5,
   "metadata": {},
   "outputs": [
    {
     "name": "stdout",
     "output_type": "stream",
     "text": [
      "Computing the cosine similarity matrix...\n",
      "Done computing similarity matrix.\n",
      "Computing the cosine similarity matrix...\n",
      "Done computing similarity matrix.\n",
      "Computing the cosine similarity matrix...\n",
      "Done computing similarity matrix.\n",
      "Computing the cosine similarity matrix...\n",
      "Done computing similarity matrix.\n",
      "Computing the cosine similarity matrix...\n",
      "Done computing similarity matrix.\n",
      "Evaluating RMSE, MAE of algorithm KNNBasic on 5 split(s).\n",
      "\n",
      "                  Fold 1  Fold 2  Fold 3  Fold 4  Fold 5  Mean    Std     \n",
      "RMSE (testset)    1.0230  1.0325  1.0274  1.0194  1.0286  1.0262  0.0045  \n",
      "MAE (testset)     0.8094  0.8166  0.8128  0.8059  0.8137  0.8117  0.0037  \n",
      "Fit time          1.51    1.38    1.39    1.40    1.40    1.42    0.05    \n",
      "Test time         3.04    3.12    3.21    3.12    3.31    3.16    0.09    \n"
     ]
    },
    {
     "data": {
      "text/plain": [
       "{'test_rmse': array([1.02303874, 1.03246724, 1.02742041, 1.01943299, 1.02863252]),\n",
       " 'test_mae': array([0.80944126, 0.81656332, 0.81277952, 0.80590468, 0.81365753]),\n",
       " 'fit_time': (1.5068390369415283,\n",
       "  1.3813419342041016,\n",
       "  1.386152982711792,\n",
       "  1.3997838497161865,\n",
       "  1.4022619724273682),\n",
       " 'test_time': (3.0384819507598877,\n",
       "  3.1199748516082764,\n",
       "  3.214918375015259,\n",
       "  3.1224870681762695,\n",
       "  3.3084840774536133)}"
      ]
     },
     "execution_count": 5,
     "metadata": {},
     "output_type": "execute_result"
    }
   ],
   "source": [
    "cross_validate(model_dict['KNN user based cosine'], data, measures=['RMSE', 'MAE'], cv=5, verbose=True)"
   ]
  },
  {
   "cell_type": "code",
   "execution_count": 2,
   "metadata": {},
   "outputs": [
    {
     "data": {
      "text/plain": [
       "<surprise.dataset.DatasetAutoFolds at 0x7fc3c467f610>"
      ]
     },
     "execution_count": 2,
     "metadata": {},
     "output_type": "execute_result"
    }
   ],
   "source": [
    "data"
   ]
  },
  {
   "cell_type": "code",
   "execution_count": null,
   "metadata": {},
   "outputs": [],
   "source": []
  }
 ],
 "metadata": {
  "kernelspec": {
   "display_name": "Python 3",
   "language": "python",
   "name": "python3"
  },
  "language_info": {
   "codemirror_mode": {
    "name": "ipython",
    "version": 3
   },
   "file_extension": ".py",
   "mimetype": "text/x-python",
   "name": "python",
   "nbconvert_exporter": "python",
   "pygments_lexer": "ipython3",
   "version": "3.8.1"
  }
 },
 "nbformat": 4,
 "nbformat_minor": 4
}
