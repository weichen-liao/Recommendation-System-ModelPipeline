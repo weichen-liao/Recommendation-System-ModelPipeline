{
 "cells": [
  {
   "cell_type": "markdown",
   "metadata": {},
   "source": [
    "For the assignment, you need to do the following steps :\n",
    "\n",
    "Read the MovieLens dataset from a file (ratings.csv & movies.csv) instead of loading it directly with using the load_builtin method. For more informations, check the Surprise Dataset module documentation.\n",
    "\n",
    "Create 2 model pipelines :\n",
    "\n",
    "1st pipeline : Load data, Train test split, model training, prediction, evaluation.\n",
    "\n",
    "2nd pipeline : Load data, cross validation.\n",
    "\n",
    "Benchmark the User based and item based collaborative filtering models using the cosine and pearson correlation similarity metrics. In this step you need to use the data loaded in the 1st step.\n",
    "\n",
    "Notebook :\n",
    "\n",
    "Your notebook should be leasable, well organized and commented. It should contain 3 seperate parts :\n",
    "\n",
    "Data loading\n",
    "Model pipelines\n",
    "Model benchmarking\n",
    "\n",
    "\n",
    "Submission :\n",
    "\n",
    "The submission deadline is the 20 / 01 @ 17:42.\n",
    "\n",
    "You need to push your code in a github repository and to send the link in the assignment tab.\n",
    "\n",
    "Your repository hierarchy should be the same as the hierarchy used during the practical work (for more information check the shared github repository https://github.com/bachtn/recommender_system_practical_work_students)\n",
    "\n",
    "NB : during the next session, I will verify that you are using a separate environment for the practical work. If not you will get a penalty on the practical work grade."
   ]
  },
  {
   "cell_type": "code",
   "execution_count": null,
   "metadata": {},
   "outputs": [],
   "source": []
  }
 ],
 "metadata": {
  "kernelspec": {
   "display_name": "Python 3",
   "language": "python",
   "name": "python3"
  },
  "language_info": {
   "codemirror_mode": {
    "name": "ipython",
    "version": 3
   },
   "file_extension": ".py",
   "mimetype": "text/x-python",
   "name": "python",
   "nbconvert_exporter": "python",
   "pygments_lexer": "ipython3",
   "version": "3.8.1"
  }
 },
 "nbformat": 4,
 "nbformat_minor": 4
}
